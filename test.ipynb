{
 "cells": [
  {
   "cell_type": "code",
   "execution_count": 13,
   "metadata": {
    "collapsed": true,
    "jupyter": {
     "outputs_hidden": true
    }
   },
   "outputs": [],
   "source": [
    "import torch\n",
    "import os\n",
    "import numpy as np\n",
    "import matplotlib.pyplot as plt\n",
    "import argparse\n",
    "import torch.nn as nn\n",
    "from torchvision import transforms, datasets\n",
    "from torch.utils.data import DataLoader\n",
    "from tqdm import tqdm\n",
    "from network import resnet\n"
   ]
  },
  {
   "cell_type": "markdown",
   "metadata": {
    "collapsed": false,
    "jupyter": {
     "outputs_hidden": false
    }
   },
   "source": [
    "Setting parameters(dataroot, batch size etc.)"
   ]
  },
  {
   "cell_type": "code",
   "execution_count": 14,
   "metadata": {
    "collapsed": false,
    "jupyter": {
     "outputs_hidden": false
    }
   },
   "outputs": [],
   "source": [
    "args = argparse.ArgumentParser()\n",
    "args.add_argument('--dataroot', type=str, default='G:/mydataset/monkeypoxskin/Fold1/test')\n",
    "args.add_argument('--batch_size', type=int, default=32)\n",
    "args.add_argument('--num_workers', type=int, default=4)\n",
    "args.add_argument('--device', type=str, default='cuda' if torch.cuda.is_available() else 'cpu')\n",
    "\n",
    "opt = args.parse_args(args=[])"
   ]
  },
  {
   "cell_type": "markdown",
   "metadata": {
    "collapsed": false,
    "jupyter": {
     "outputs_hidden": false
    }
   },
   "source": [
    " Load dataset and model"
   ]
  },
  {
   "cell_type": "code",
   "execution_count": 19,
   "metadata": {
    "collapsed": false,
    "jupyter": {
     "outputs_hidden": false
    }
   },
   "outputs": [],
   "source": [
    "transform = transforms.Compose([\n",
    "    transforms.Resize((224, 224)),\n",
    "    transforms.ToTensor(),\n",
    "    transforms.Normalize(mean=[0.485, 0.456, 0.406], std=[0.229, 0.224, 0.225])\n",
    "])\n",
    "\n",
    "dataset = datasets.ImageFolder(root=opt.dataroot, transform=transform)\n",
    "dataloader = DataLoader(dataset, batch_size=opt.batch_size, shuffle=True, num_workers=opt.num_workers)\n",
    "model = resnet.resnet34()\n",
    "model.fc = nn.Linear(512, 3)\n",
    "model.load_state_dict(torch.load('checkpoints/model_epoch_best.pth')['model'])\n",
    "model = model.to(opt.device)\n"
   ]
  },
  {
   "cell_type": "markdown",
   "metadata": {
    "collapsed": false,
    "jupyter": {
     "outputs_hidden": false
    }
   },
   "source": [
    "Validation, calculate accuracy."
   ]
  },
  {
   "cell_type": "code",
   "execution_count": 20,
   "metadata": {
    "collapsed": false,
    "jupyter": {
     "outputs_hidden": false
    }
   },
   "outputs": [],
   "source": [
    "def validate(model, dataroot, device):\n",
    "    model.eval()\n",
    "    correct = 0\n",
    "    label_list, pred_list = [], []\n",
    "    with torch.no_grad():\n",
    "        for img, label in tqdm(dataloader):\n",
    "            img = img.to(device)\n",
    "            label = label.to(device)\n",
    "            pred = model(img).sigmoid()\n",
    "            correct += (pred.argmax(-1) == label).type(torch.float).sum().item()\n",
    "\n",
    "            label_list.extend(label.cpu().numpy())\n",
    "            pred_list.extend(pred.argmax(-1).cpu().numpy())\n",
    "\n",
    "    correct /= len(dataloader.dataset)\n",
    "    return correct, label_list, pred_list\n"
   ]
  },
  {
   "cell_type": "markdown",
   "metadata": {
    "collapsed": false,
    "jupyter": {
     "outputs_hidden": false
    }
   },
   "source": [
    "# Main"
   ]
  },
  {
   "cell_type": "code",
   "execution_count": 21,
   "metadata": {
    "collapsed": false,
    "jupyter": {
     "outputs_hidden": false
    }
   },
   "outputs": [
    {
     "name": "stderr",
     "output_type": "stream",
     "text": [
      "100%|██████████| 3/3 [00:02<00:00,  1.04it/s]"
     ]
    },
    {
     "name": "stdout",
     "output_type": "stream",
     "text": [
      "Accuracy: 73.85%\n",
      "Number of healthy: 20, Number of monkeypox: 20, Number of other: 25\n",
      "Health: 80.00% \tMonkeypox: 85.00% \tOther: 60.00%\n"
     ]
    },
    {
     "name": "stderr",
     "output_type": "stream",
     "text": [
      "\n"
     ]
    }
   ],
   "source": [
    "correct, label_list, pred_list = validate(model, opt.dataroot, opt.device)\n",
    "num_health = np.sum(np.array(label_list) == 0)\n",
    "num_monkey = np.sum(np.array(label_list) == 1)\n",
    "num_other = np.sum(np.array(label_list) == 2)\n",
    "\n",
    "print('Accuracy: {:.2f}%'.format(correct * 100))\n",
    "print(f'Number of healthy: {num_health}, Number of monkeypox: {num_monkey}, Number of other: {num_other}')\n",
    "print(\n",
    "    'Health: {:.2f}%'.format(np.sum(np.array(label_list)[np.array(label_list) == 0] == np.array(pred_list)[np.array(label_list) == 0]) / num_health * 100),\n",
    "    '\\tMonkeypox: {:.2f}%'.format(np.sum(np.array(label_list)[np.array(label_list) == 1] == np.array(pred_list)[np.array(label_list) == 1]) / num_monkey * 100),\n",
    "    '\\tOther: {:.2f}%'.format(np.sum(np.array(label_list)[np.array(label_list) == 2] == np.array(pred_list)[np.array(label_list) == 2]) / num_other * 100)\n",
    ")\n"
   ]
  },
  {
   "cell_type": "markdown",
   "metadata": {
    "collapsed": false,
    "jupyter": {
     "outputs_hidden": false
    }
   },
   "source": []
  }
 ],
 "metadata": {
  "kernelspec": {
   "display_name": "Python 3",
   "language": "python",
   "name": "python3"
  },
  "language_info": {
   "codemirror_mode": {
    "name": "ipython",
    "version": 3
   },
   "file_extension": ".py",
   "mimetype": "text/x-python",
   "name": "python",
   "nbconvert_exporter": "python",
   "pygments_lexer": "ipython3",
   "version": "3.7.4"
  }
 },
 "nbformat": 4,
 "nbformat_minor": 4
}
